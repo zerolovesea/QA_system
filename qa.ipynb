{
 "cells": [
  {
   "cell_type": "code",
   "execution_count": 13,
   "metadata": {},
   "outputs": [],
   "source": [
    "import streamlit as st\n",
    "from langchain.chat_models import AzureChatOpenAI\n",
    "from langchain.embeddings import SentenceTransformerEmbeddings\n",
    "from langchain.text_splitter import CharacterTextSplitter\n",
    "from langchain.vectorstores import Chroma\n",
    "from langchain.document_loaders import TextLoader\n",
    "from langchain_core.documents import Document"
   ]
  },
  {
   "cell_type": "code",
   "execution_count": 14,
   "metadata": {},
   "outputs": [],
   "source": [
    "llm = AzureChatOpenAI(\n",
    "                    openai_api_base=\"https://leansightdemoopenai.openai.azure.com\",\n",
    "                    openai_api_version=\"2023-07-01-preview\",\n",
    "                    deployment_name=\"Codee-Demo\",\n",
    "                    temperature=0.1,\n",
    "                    openai_api_key=\"231c4fb207dd4edc950306eec904e974\",\n",
    "                    openai_api_type=\"azure\",\n",
    "                    streaming=False)"
   ]
  },
  {
   "cell_type": "code",
   "execution_count": 2,
   "metadata": {},
   "outputs": [
    {
     "name": "stdout",
     "output_type": "stream",
     "text": [
      "<langchain_community.document_loaders.text.TextLoader object at 0x00000237443C7610>\n"
     ]
    }
   ],
   "source": [
    "loader = TextLoader('测试语料.txt')\n",
    "print(loader)\n",
    "documents = loader.load()\n",
    "\n",
    "# 将文本进行切块\n",
    "text_splitter = CharacterTextSplitter(chunk_size=1000, chunk_overlap=0)\n",
    "docs = text_splitter.split_documents(documents)\n",
    "\n",
    "# 将语料嵌入后存入向量数据库\n",
    "embeddings = SentenceTransformerEmbeddings()\n",
    "db = Chroma.from_documents(docs, embeddings)"
   ]
  },
  {
   "cell_type": "code",
   "execution_count": 7,
   "metadata": {},
   "outputs": [
    {
     "name": "stdout",
     "output_type": "stream",
     "text": [
      "OpenAI\n",
      "OpenAI（开放人工智能研究中心）是一个美国人工智能研究实验室，由非营利组织OpenAI Inc，和其营利组织子公司OpenAI LP所组成。OpenAI 进行 AI 研究的目的是促进和发展友好的人工智能，使人类整体受益。 OpenAI 系统运行在微软基于 Azure 的超级计算平台上。该组织于2015年由萨姆·阿尔特曼、里德·霍夫曼、杰西卡·利文斯顿、伊隆·马斯克、伊尔亚·苏茨克维、沃伊切赫·萨伦巴、彼得·泰尔 等人在旧金山成立，他们共同认捐了10亿美元。 微软在2019年向 OpenAI LP 提供了10亿美元的投资，并在2023年1月向其提供了第二笔多年投资，据报导为100亿美元， 用于独家访问GPT-4，这将为微软自己的Bing Prometheus 模型提供支持。\n",
      "2015–2018年：作为非营利机构起步\n",
      "2015年底，萨姆·阿尔特曼、格雷格·布洛克曼、里德·霍夫曼、杰西卡·利文斯顿、彼得·蒂尔、伊隆·马斯克、亚马逊网络服务（AWS）、印孚瑟斯和YC Research宣布成立OpenAI，并承诺向这个项目投入超过10亿美元。该组织表示将通过向公众开放其专利和研究，并与其他机构和研究者“自由合作”。OpenAI的总部设于旧金山教会区的先锋大厦。\n",
      "\n",
      "据《连线》杂志报道，布洛克曼会见了深度学习“创始人”之一的约书亚·本希奥，并列出了该领域的“最佳研究者”名单。在2015年12月，布洛克曼成功聘请了其中的九位作为首批员工。2016年，OpenAI支付了公司级别（而非营利组织级别）的薪水，但并未支付与Facebook或谷歌相当的AI研究者薪水。\n",
      "\n",
      "微软的Peter Lee表示，顶级AI研究者的成本超过了顶级NFL四分卫新秀的成本。OpenAI的潜力和使命吸引了这些研究者来到这个公司；一位谷歌员工表示，他愿意离开谷歌去OpenAI，\"部分原因是因为那里有一群非常强大的人，而更大程度上，是因为它的使命。\"布洛克曼表示，\"我能想象到的最好的事情就是以安全的方式推动人类更接近真正的AI。\" OpenAI联合创始人沃伊切赫·扎伦巴表示，他拒绝了\"近乎疯狂\"的报价，这些报价是他市场价值的两到三倍，而他选择加入OpenAI。\n"
     ]
    }
   ],
   "source": [
    "query = \"什么是OpenAI\"\n",
    "docs = db.similarity_search(query)\n",
    "print(docs[0].page_content)"
   ]
  },
  {
   "cell_type": "code",
   "execution_count": 8,
   "metadata": {},
   "outputs": [
    {
     "data": {
      "text/plain": [
       "(Document(page_content='OpenAI\\nOpenAI（开放人工智能研究中心）是一个美国人工智能研究实验室，由非营利组织OpenAI Inc，和其营利组织子公司OpenAI LP所组成。OpenAI 进行 AI 研究的目的是促进和发展友好的人工智能，使人类整体受益。 OpenAI 系统运行在微软基于 Azure 的超级计算平台上。该组织于2015年由萨姆·阿尔特曼、里德·霍夫曼、杰西卡·利文斯顿、伊隆·马斯克、伊尔亚·苏茨克维、沃伊切赫·萨伦巴、彼得·泰尔 等人在旧金山成立，他们共同认捐了10亿美元。 微软在2019年向 OpenAI LP 提供了10亿美元的投资，并在2023年1月向其提供了第二笔多年投资，据报导为100亿美元， 用于独家访问GPT-4，这将为微软自己的Bing Prometheus 模型提供支持。\\n2015–2018年：作为非营利机构起步\\n2015年底，萨姆·阿尔特曼、格雷格·布洛克曼、里德·霍夫曼、杰西卡·利文斯顿、彼得·蒂尔、伊隆·马斯克、亚马逊网络服务（AWS）、印孚瑟斯和YC Research宣布成立OpenAI，并承诺向这个项目投入超过10亿美元。该组织表示将通过向公众开放其专利和研究，并与其他机构和研究者“自由合作”。OpenAI的总部设于旧金山教会区的先锋大厦。\\n\\n据《连线》杂志报道，布洛克曼会见了深度学习“创始人”之一的约书亚·本希奥，并列出了该领域的“最佳研究者”名单。在2015年12月，布洛克曼成功聘请了其中的九位作为首批员工。2016年，OpenAI支付了公司级别（而非营利组织级别）的薪水，但并未支付与Facebook或谷歌相当的AI研究者薪水。\\n\\n微软的Peter Lee表示，顶级AI研究者的成本超过了顶级NFL四分卫新秀的成本。OpenAI的潜力和使命吸引了这些研究者来到这个公司；一位谷歌员工表示，他愿意离开谷歌去OpenAI，\"部分原因是因为那里有一群非常强大的人，而更大程度上，是因为它的使命。\"布洛克曼表示，\"我能想象到的最好的事情就是以安全的方式推动人类更接近真正的AI。\" OpenAI联合创始人沃伊切赫·扎伦巴表示，他拒绝了\"近乎疯狂\"的报价，这些报价是他市场价值的两到三倍，而他选择加入OpenAI。', metadata={'source': '测试语料.txt'}),\n",
       " 0.7061116099357605)"
      ]
     },
     "execution_count": 8,
     "metadata": {},
     "output_type": "execute_result"
    }
   ],
   "source": [
    "docs = db.similarity_search_with_score(query)\n",
    "docs[0]"
   ]
  },
  {
   "cell_type": "code",
   "execution_count": 9,
   "metadata": {},
   "outputs": [
    {
     "name": "stderr",
     "output_type": "stream",
     "text": [
      "Number of requested results 20 is greater than number of elements in index 5, updating n_results = 5\n"
     ]
    },
    {
     "data": {
      "text/plain": [
       "Document(page_content='OpenAI\\nOpenAI（开放人工智能研究中心）是一个美国人工智能研究实验室，由非营利组织OpenAI Inc，和其营利组织子公司OpenAI LP所组成。OpenAI 进行 AI 研究的目的是促进和发展友好的人工智能，使人类整体受益。 OpenAI 系统运行在微软基于 Azure 的超级计算平台上。该组织于2015年由萨姆·阿尔特曼、里德·霍夫曼、杰西卡·利文斯顿、伊隆·马斯克、伊尔亚·苏茨克维、沃伊切赫·萨伦巴、彼得·泰尔 等人在旧金山成立，他们共同认捐了10亿美元。 微软在2019年向 OpenAI LP 提供了10亿美元的投资，并在2023年1月向其提供了第二笔多年投资，据报导为100亿美元， 用于独家访问GPT-4，这将为微软自己的Bing Prometheus 模型提供支持。\\n2015–2018年：作为非营利机构起步\\n2015年底，萨姆·阿尔特曼、格雷格·布洛克曼、里德·霍夫曼、杰西卡·利文斯顿、彼得·蒂尔、伊隆·马斯克、亚马逊网络服务（AWS）、印孚瑟斯和YC Research宣布成立OpenAI，并承诺向这个项目投入超过10亿美元。该组织表示将通过向公众开放其专利和研究，并与其他机构和研究者“自由合作”。OpenAI的总部设于旧金山教会区的先锋大厦。\\n\\n据《连线》杂志报道，布洛克曼会见了深度学习“创始人”之一的约书亚·本希奥，并列出了该领域的“最佳研究者”名单。在2015年12月，布洛克曼成功聘请了其中的九位作为首批员工。2016年，OpenAI支付了公司级别（而非营利组织级别）的薪水，但并未支付与Facebook或谷歌相当的AI研究者薪水。\\n\\n微软的Peter Lee表示，顶级AI研究者的成本超过了顶级NFL四分卫新秀的成本。OpenAI的潜力和使命吸引了这些研究者来到这个公司；一位谷歌员工表示，他愿意离开谷歌去OpenAI，\"部分原因是因为那里有一群非常强大的人，而更大程度上，是因为它的使命。\"布洛克曼表示，\"我能想象到的最好的事情就是以安全的方式推动人类更接近真正的AI。\" OpenAI联合创始人沃伊切赫·扎伦巴表示，他拒绝了\"近乎疯狂\"的报价，这些报价是他市场价值的两到三倍，而他选择加入OpenAI。', metadata={'source': '测试语料.txt'})"
      ]
     },
     "execution_count": 9,
     "metadata": {},
     "output_type": "execute_result"
    }
   ],
   "source": [
    "vectordb = Chroma(persist_directory='db', embedding_function=embeddings)\n",
    "retriever = db.as_retriever(search_type=\"mmr\")\n",
    "retriever.get_relevant_documents(query)[0]"
   ]
  },
  {
   "cell_type": "code",
   "execution_count": 12,
   "metadata": {},
   "outputs": [
    {
     "name": "stderr",
     "output_type": "stream",
     "text": [
      "Number of requested results 20 is greater than number of elements in index 5, updating n_results = 5\n"
     ]
    },
    {
     "data": {
      "text/plain": [
       "'OpenAI是一个美国人工智能研究实验室，旨在促进和发展友好的人工智能，使人类整体受益。它由非营利组织OpenAI Inc和其营利组织子公司OpenAI LP组成。OpenAI的目标是开发通用人工智能，并将其应用于各种领域。'"
      ]
     },
     "execution_count": 12,
     "metadata": {},
     "output_type": "execute_result"
    }
   ],
   "source": [
    "from langchain.prompts import ChatPromptTemplate\n",
    "\n",
    "\n",
    "template = \"\"\"你是一个用于问答任务的助手。\n",
    "    使用检索到的上下文来回答问题。\n",
    "    如果你不知道答案，只需说你不知道。\n",
    "    最多使用三句话，并保持答案简洁。\n",
    "    问题：{question}\n",
    "    上下文：{context}\n",
    "    答案：\n",
    "        \"\"\"\n",
    "prompt = ChatPromptTemplate.from_template(template)\n",
    "            \n",
    "from langchain.schema.runnable import RunnablePassthrough\n",
    "from langchain.schema.output_parser import StrOutputParser\n",
    "\n",
    "rag_chain = (\n",
    "    {\"context\": retriever,  \"question\": RunnablePassthrough()}\n",
    "    | prompt\n",
    "    | llm\n",
    "    | StrOutputParser()\n",
    ")\n",
    "\n",
    "query = \"OpenAI是什么？\"\n",
    "rag_chain.invoke(query)\n",
    "            \n"
   ]
  },
  {
   "cell_type": "code",
   "execution_count": null,
   "metadata": {},
   "outputs": [],
   "source": []
  }
 ],
 "metadata": {
  "kernelspec": {
   "display_name": "fusion",
   "language": "python",
   "name": "python3"
  },
  "language_info": {
   "codemirror_mode": {
    "name": "ipython",
    "version": 3
   },
   "file_extension": ".py",
   "mimetype": "text/x-python",
   "name": "python",
   "nbconvert_exporter": "python",
   "pygments_lexer": "ipython3",
   "version": "3.11.5"
  }
 },
 "nbformat": 4,
 "nbformat_minor": 2
}
